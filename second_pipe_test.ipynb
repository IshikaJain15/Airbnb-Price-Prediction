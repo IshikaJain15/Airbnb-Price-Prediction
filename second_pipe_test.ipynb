{
 "cells": [
  {
   "cell_type": "code",
   "execution_count": 1,
   "metadata": {},
   "outputs": [],
   "source": [
    "from sklearn.pipeline import Pipeline\n",
    "from sklearn.model_selection import train_test_split, KFold, cross_val_score\n",
    "from sklearn.ensemble import RandomForestRegressor\n",
    "from sklearn.compose import TransformedTargetRegressor\n",
    "from sklearn.preprocessing import FunctionTransformer\n",
    "from sklearn.metrics import mean_squared_error\n",
    "from xgboost import XGBRegressor\n",
    "from lightgbm import LGBMRegressor\n",
    "from sklearn.linear_model import LinearRegression\n",
    "from utils.transformers import *\n",
    "import pandas as pd\n",
    "import numpy as np"
   ]
  },
  {
   "cell_type": "code",
   "execution_count": 2,
   "metadata": {},
   "outputs": [],
   "source": [
    "df_train = pd.read_csv('train.csv')\n",
    "df_test = pd.read_csv('test.csv')\n",
    "\n",
    "#dummy column so the format of dataframes is the same in the pipeline\n",
    "df_test['target'] = 1\n",
    "\n",
    "X = df_train#.drop(columns=['target'])\n",
    "y = df_train[['target']]\n",
    "\n",
    "X_train, X_val, y_train, y_val = train_test_split(X, y, train_size=0.8, random_state=1)"
   ]
  },
  {
   "cell_type": "code",
   "execution_count": 4,
   "metadata": {},
   "outputs": [],
   "source": [
    "pipe_features = Pipeline(steps=[\n",
    "    ('col_dropper',\n",
    "     ColumnDropper(\n",
    "        columns_to_drop=[\n",
    "            'property_id',\n",
    "            'property_name',\n",
    "            'host_id',\n",
    "            'host_location',\n",
    "            'host_since',\n",
    "            'host_nr_listings_total',\n",
    "            'host_response_time',\n",
    "            'property_desc',\n",
    "            'property_last_updated',\n",
    "            'property_scraped_at',\n",
    "            'property_zipcode',\n",
    "            'property_sqfeet', \n",
    "            'property_neighborhood',\n",
    "            'property_notes',\n",
    "            'property_transit', \n",
    "            'property_access',\n",
    "            'property_interaction',\n",
    "            'property_rules',\n",
    "            'reviews_first',\n",
    "            'reviews_last',\n",
    "            'property_amenities',\n",
    "            'host_about',\n",
    "            'host_verified',\n",
    "            'property_bathrooms',\n",
    "            'property_bed_type',\n",
    "            'property_summary'\n",
    "            ]\n",
    "        )\n",
    "     ),\n",
    "     ('target_handler',\n",
    "      TargetHandler(target_col='target')\n",
    "      ),\n",
    "    ('missing_flagger',\n",
    "     MissingFlagger(\n",
    "        columns_to_flag=[\n",
    "            'property_space'   \n",
    "            ]\n",
    "        )\n",
    "     ),\n",
    "    ('extras_handler',\n",
    "     ExtrasHandler()\n",
    "     ),\n",
    "    ('clust_location',\n",
    "     GaussianClusterer(\n",
    "        n_clusters=7,\n",
    "        features_cluster=['property_lat', 'property_lon'],\n",
    "        initial_centroids = np.array([\n",
    "            [51.24, 4.34], [51.20, 4.41], [51.20, 4.45],\n",
    "            [50.85, 4.30], [50.85, 4.35], [50.85, 4.38], [50.85, 4.43]\n",
    "            ])\n",
    "        )\n",
    "     ),\n",
    "    ('property_type_handler',\n",
    "     PropertyTypeHandler()\n",
    "     ),\n",
    "    ('booking_cancel_handler',\n",
    "     BookingCancelHandler()\n",
    "     ),\n",
    "     ('max_guest_adjuster',\n",
    "      MaxGuestsAdjuster()\n",
    "      ),\n",
    "     ('median_imputer',\n",
    "      CustomSimpleImputer(\n",
    "        columns=[\n",
    "            'property_bedrooms',\n",
    "            'property_beds',\n",
    "            'host_response_rate',\n",
    "            'host_nr_listings',\n",
    "            'reviews_rating',\n",
    "            'reviews_acc',\n",
    "            'reviews_cleanliness',\n",
    "            'reviews_checkin',\n",
    "            'reviews_communication',\n",
    "            'reviews_location',\n",
    "            'reviews_value',\n",
    "            'reviews_per_month'\n",
    "        ])\n",
    "      ),\n",
    "    ('truncator',\n",
    "      CustomTruncator(\n",
    "        cols_and_lims={\n",
    "            'property_beds':7,\n",
    "            'property_bedrooms':4,\n",
    "            'property_max_guests':7,\n",
    "            'booking_price_covers':4\n",
    "        }\n",
    "      )\n",
    "     ),\n",
    "    ('target_encoding',\n",
    "     CustomTargetEncoder(\n",
    "        feat_columns=[\n",
    "            'property_beds',\n",
    "            'property_bedrooms',\n",
    "            'property_max_guests',\n",
    "            'booking_price_covers',\n",
    "            'property_type_new',\n",
    "            'property_room_type',\n",
    "            'location_zone_g',\n",
    "            'booking_cancel_policy'\n",
    "        ],\n",
    "        target_column='target'\n",
    "     )\n",
    "     ),\n",
    "    ('target_col_drop',\n",
    "      ColumnDropper(columns_to_drop=['target'])\n",
    "      ),\n",
    "    ('scaler',\n",
    "     CustomStandardScaler(\n",
    "        columns=[\n",
    "            'host_response_rate',\n",
    "            'host_nr_listings',\n",
    "            'booking_min_nights',\n",
    "            'booking_max_nights',\n",
    "            'booking_availability_30',\n",
    "            'booking_availability_60',\n",
    "            'booking_availability_90',\n",
    "            'booking_availability_365',\n",
    "            'reviews_num',\n",
    "            'reviews_rating',\n",
    "            'reviews_acc',\n",
    "            'reviews_cleanliness',\n",
    "            'reviews_checkin',\n",
    "            'reviews_communication',\n",
    "            'reviews_location',\n",
    "            'reviews_value',\n",
    "            'reviews_per_month'\n",
    "        ]\n",
    "     )),\n",
    "    ('pca_reviews',\n",
    "     PCATransformer(\n",
    "        n_components=3,\n",
    "        columns=[\n",
    "            'reviews_rating',\n",
    "            'reviews_acc',\n",
    "            'reviews_cleanliness',\n",
    "            'reviews_checkin',\n",
    "            'reviews_communication',\n",
    "            'reviews_location',\n",
    "            'reviews_value'\n",
    "        ]\n",
    "     )),\n",
    "     ('pca_bookings',\n",
    "      PCATransformer(\n",
    "        n_components=1,\n",
    "        columns=[\n",
    "            'booking_availability_30',\n",
    "            'booking_availability_60',\n",
    "            'booking_availability_90',\n",
    "            'booking_availability_365'\n",
    "            ]\n",
    "     )),\n",
    "    ('lgbm', LGBMRegressor())\n",
    "])\n",
    "\n",
    "pipe_target = Pipeline(steps=[\n",
    "    ('log_transform', FunctionTransformer(np.log, inverse_func = np.exp, check_inverse = True)),\n",
    "    ('scaler', StandardScaler())\n",
    "])\n",
    "\n",
    "model = TransformedTargetRegressor(regressor=pipe_features, transformer=pipe_target)"
   ]
  },
  {
   "cell_type": "code",
   "execution_count": 5,
   "metadata": {},
   "outputs": [
    {
     "data": {
      "text/plain": [
       "-53.00240805689244"
      ]
     },
     "execution_count": 5,
     "metadata": {},
     "output_type": "execute_result"
    }
   ],
   "source": [
    "cv2 = KFold(n_splits=10)\n",
    "#RMSE Score\n",
    "scores2 = cross_val_score(model, X, y, scoring='neg_root_mean_squared_error', cv=cv2, n_jobs=-1)\n",
    "scores2.mean()"
   ]
  },
  {
   "cell_type": "code",
   "execution_count": 6,
   "metadata": {},
   "outputs": [
    {
     "data": {
      "text/plain": [
       "array([-49.26943658, -49.31568418, -55.20425978, -62.99025611,\n",
       "       -57.68803588, -62.36169822, -44.18405258, -50.58799667,\n",
       "       -46.03110312, -52.39155743])"
      ]
     },
     "execution_count": 6,
     "metadata": {},
     "output_type": "execute_result"
    }
   ],
   "source": [
    "scores2"
   ]
  },
  {
   "cell_type": "code",
   "execution_count": 7,
   "metadata": {},
   "outputs": [
    {
     "data": {
      "text/plain": [
       "-19.91252579010729"
      ]
     },
     "execution_count": 7,
     "metadata": {},
     "output_type": "execute_result"
    }
   ],
   "source": [
    "cv3 = KFold(n_splits=10)\n",
    "#Median Abs. Error Score (robust metric to evaluate the regression score)\n",
    "scores3 = cross_val_score(model, X, y, scoring='neg_median_absolute_error', cv=cv2, n_jobs=-1)\n",
    "scores3.mean()"
   ]
  },
  {
   "cell_type": "code",
   "execution_count": 12,
   "metadata": {},
   "outputs": [
    {
     "data": {
      "text/plain": [
       "array([-20.90674972, -19.83168255, -19.54811731, -17.67914896,\n",
       "       -18.42997239, -19.83295296, -19.02819152, -19.85801545,\n",
       "       -19.39993509, -19.30818603])"
      ]
     },
     "execution_count": 12,
     "metadata": {},
     "output_type": "execute_result"
    }
   ],
   "source": [
    "scores3"
   ]
  },
  {
   "cell_type": "code",
   "execution_count": 9,
   "metadata": {},
   "outputs": [],
   "source": [
    "model.fit(X,y)\n",
    "\n",
    "pred = model.predict(df_test)\n",
    "\n",
    "pred_df = df_test[['property_id']].copy()\n",
    "\n",
    "pred_df['pred_price'] = pred\n",
    "\n",
    "pred_df.to_csv('pred_v2.csv', header=False, index=False)"
   ]
  }
 ],
 "metadata": {
  "kernelspec": {
   "display_name": ".venv",
   "language": "python",
   "name": "python3"
  },
  "language_info": {
   "codemirror_mode": {
    "name": "ipython",
    "version": 3
   },
   "file_extension": ".py",
   "mimetype": "text/x-python",
   "name": "python",
   "nbconvert_exporter": "python",
   "pygments_lexer": "ipython3",
   "version": "3.9.7"
  },
  "orig_nbformat": 4,
  "vscode": {
   "interpreter": {
    "hash": "5f8bd80821fa81cd9cfdbedc2b5d15c8cd7c31bfbf8a01e78de7b40510870284"
   }
  }
 },
 "nbformat": 4,
 "nbformat_minor": 2
}
